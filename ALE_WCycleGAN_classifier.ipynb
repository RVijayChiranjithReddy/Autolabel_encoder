{
  "nbformat": 4,
  "nbformat_minor": 0,
  "metadata": {
    "colab": {
      "name": "ALE_WCycleGAN_classifier.ipynb",
      "provenance": [],
      "collapsed_sections": [],
      "include_colab_link": true
    },
    "kernelspec": {
      "display_name": "Python 3",
      "name": "python3"
    },
    "language_info": {
      "name": "python"
    },
    "accelerator": "GPU"
  },
  "cells": [
    {
      "cell_type": "markdown",
      "metadata": {
        "id": "view-in-github",
        "colab_type": "text"
      },
      "source": [
        "<a href=\"https://colab.research.google.com/github/RVijayChiranjithReddy/Autolabel_encoder/blob/main/ALE_WCycleGAN_classifier.ipynb\" target=\"_parent\"><img src=\"https://colab.research.google.com/assets/colab-badge.svg\" alt=\"Open In Colab\"/></a>"
      ]
    },
    {
      "cell_type": "code",
      "metadata": {
        "colab": {
          "base_uri": "https://localhost:8080/"
        },
        "id": "eKnK4Q2gv7wz",
        "outputId": "acaa2dd5-791a-4be5-a63b-de79d9166030"
      },
      "source": [
        "!pip install tensorflow_addons"
      ],
      "execution_count": null,
      "outputs": [
        {
          "output_type": "stream",
          "text": [
            "Requirement already satisfied: tensorflow_addons in /usr/local/lib/python3.7/dist-packages (0.13.0)\n",
            "Requirement already satisfied: typeguard>=2.7 in /usr/local/lib/python3.7/dist-packages (from tensorflow_addons) (2.7.1)\n"
          ],
          "name": "stdout"
        }
      ]
    },
    {
      "cell_type": "code",
      "metadata": {
        "colab": {
          "base_uri": "https://localhost:8080/"
        },
        "id": "IQ3DsF2gTT36",
        "outputId": "24bcddba-3390-44ca-9860-f9d5735f3e96"
      },
      "source": [
        "\n",
        "from keras.layers import *\n",
        "from keras.layers.advanced_activations import LeakyReLU\n",
        "from keras.activations import *\n",
        "from keras.initializers import RandomNormal\n",
        "from keras.applications import *\n",
        "import tensorflow as tf\n",
        "from keras.models import Sequential,Model\n",
        "import matplotlib.pyplot as plt\n",
        "import keras.backend as K\n",
        "from keras.optimizers import RMSprop, SGD, Adam\n",
        "import cv2\n",
        "from PIL import Image\n",
        "import numpy as np\n",
        "import glob\n",
        "from random import randint, shuffle\n",
        "import tensorflow_addons as tfa\n",
        "%matplotlib inline\n",
        "K.set_learning_phase(1)\n"
      ],
      "execution_count": null,
      "outputs": [
        {
          "output_type": "stream",
          "text": [
            "/usr/local/lib/python3.7/dist-packages/keras/backend.py:400: UserWarning: `tf.keras.backend.set_learning_phase` is deprecated and will be removed after 2020-10-11. To update it, simply pass a True/False value to the `training` argument of the `__call__` method of your layer or model.\n",
            "  warnings.warn('`tf.keras.backend.set_learning_phase` is deprecated and '\n"
          ],
          "name": "stderr"
        }
      ]
    },
    {
      "cell_type": "code",
      "metadata": {
        "colab": {
          "base_uri": "https://localhost:8080/"
        },
        "id": "DiC1CpTdTb-4",
        "outputId": "0d7f7d17-e4d0-478b-cc86-078c75f82fac"
      },
      "source": [
        "from google.colab import drive\n",
        "drive.mount('/content/drive')"
      ],
      "execution_count": null,
      "outputs": [
        {
          "output_type": "stream",
          "text": [
            "Drive already mounted at /content/drive; to attempt to forcibly remount, call drive.mount(\"/content/drive\", force_remount=True).\n"
          ],
          "name": "stdout"
        }
      ]
    },
    {
      "cell_type": "code",
      "metadata": {
        "colab": {
          "base_uri": "https://localhost:8080/"
        },
        "id": "7CUE6JV0Tew2",
        "outputId": "bff1f132-9771-482a-8c2b-533fd3389c74"
      },
      "source": [
        "import pandas\n",
        "from keras.preprocessing.sequence import pad_sequences\n",
        "from keras.preprocessing.text import Tokenizer\n",
        "df = pandas.read_csv('/content/styles.csv')\n",
        "df.fillna('DK', inplace = True) \n",
        "data = {}\n",
        "for i in range(44446):\n",
        "  tags = [str(x) for x in df.loc[i].values[1:9] if type(x) is str]\n",
        "  #desc = df.loc[i].values[9]\n",
        "  #if type(desc) is not float:\n",
        "    #for de in desc.split():\n",
        "     #if de.isalpha() and de not in tags:\n",
        "        #tags.append(de)\n",
        "  data[str(df.loc[i].values[0])] = ':'.join(tags)\n",
        "vocab = []\n",
        "for k,v in data.items():\n",
        "  temp = list(set(v.split(':')))\n",
        "  vocab = vocab + temp\n",
        "  vocab = list(set(vocab))\n",
        "print(len(vocab))\n",
        "#from tensorflow.keras.preprocessing.text import one_hot\n",
        "#for k,d in data.items():\n",
        "  #data_encoded[k] = one_hot(' '.join(d),len(vocab))\n",
        "tokenizer = Tokenizer(num_words=len(vocab))\n",
        "\n",
        "# This builds the word index\n",
        "tokenizer.fit_on_texts(data.values())\n",
        "\n",
        "\n",
        "# This turns strings into lists of integer indices.\n",
        "train_sequences = tokenizer.texts_to_sequences(data.values())\n",
        "print(tokenizer.word_index)"
      ],
      "execution_count": null,
      "outputs": [
        {
          "output_type": "stream",
          "text": [
            "240\n",
            "{'casual': 1, 'men': 2, 'apparel': 3, 'summer': 4, 'women': 5, 'topwear': 6, 'shoes': 7, 'accessories': 8, 'fall': 9, 'black': 10, 'footwear': 11, 'winter': 12, 'tshirts': 13, 'blue': 14, 'sports': 15, 'white': 16, 'watches': 17, 'brown': 18, 'shirts': 19, 'ethnic': 20, 'bags': 21, 'formal': 22, 'spring': 23, 'grey': 24, 'bottomwear': 25, 'care': 26, 'red': 27, 'personal': 28, 'unisex': 29, 'green': 30, 'innerwear': 31, 'wallets': 32, 'pink': 33, 'kurtas': 34, 'flip': 35, 'flops': 36, 'navy': 37, 'tops': 38, 'handbags': 39, 'purple': 40, 'belts': 41, 'and': 42, 'socks': 43, 'heels': 44, 'jewellery': 45, 'silver': 46, 'eyewear': 47, 'sunglasses': 48, 'fragrance': 49, 'sandals': 50, 'sandal': 51, 'briefs': 52, 'boys': 53, 'yellow': 54, 'beige': 55, 'backpacks': 56, 'girls': 57, 'body': 58, 'gold': 59, 'perfume': 60, 'mist': 61, 'jeans': 62, 'shorts': 63, 'maroon': 64, 'trousers': 65, 'orange': 66, 'lips': 67, 'ties': 68, 'flats': 69, 'dress': 70, 'bra': 71, 'loungewear': 72, 'nightwear': 73, 'dresses': 74, 'saree': 75, 'sarees': 76, 'earrings': 77, 'olive': 78, 'cream': 79, 'multi': 80, 'pants': 81, 'dk': 82, 'deodorant': 83, 'set': 84, 'nail': 85, 'nails': 86, 'polish': 87, 'skin': 88, 'lipstick': 89, 'steel': 90, 'makeup': 91, 'track': 92, 'free': 93, 'headwear': 94, 'clutches': 95, 'sweatshirts': 96, 'caps': 97, 'sweaters': 98, 'jackets': 99, 'vests': 100, 'scarves': 101, 'kurtis': 102, 'tunics': 103, 'charcoal': 104, 'bag': 105, 'cufflinks': 106, 'lip': 107, 'peach': 108, 'gifts': 109, 'nightdress': 110, 'off': 111, 'stoles': 112, 'leggings': 113, 'pendant': 114, 'capris': 115, 'gift': 116, 'lavender': 117, 'necklace': 118, 'chains': 119, 'melange': 120, 'gloss': 121, 'suits': 122, 'night': 123, 'trunk': 124, 'khaki': 125, 'accessory': 126, 'magenta': 127, 'skirts': 128, 'dupatta': 129, 'teal': 130, 'ring': 131, 'tan': 132, 'items': 133, 'kajal': 134, 'eyeliner': 135, 'lounge': 136, 'mustard': 137, 'face': 138, 'bronze': 139, 'kurta': 140, 'sets': 141, 'duffel': 142, 'copper': 143, 'bangle': 144, 'laptop': 145, 'mufflers': 146, 'foundation': 147, 'primer': 148, 'turquoise': 149, 'smart': 150, 'bracelet': 151, 'rust': 152, 'pouch': 153, 'moisturisers': 154, 'highlighter': 155, 'blush': 156, 'boxers': 157, 'compact': 158, 'shoe': 159, 'liner': 160, 'mobile': 161, 'burgundy': 162, 'messenger': 163, 'metallic': 164, 'eyes': 165, 'travel': 166, 'eyeshadow': 167, 'suspenders': 168, 'gloves': 169, 'camisoles': 170, 'salwar': 171, 'hair': 172, 'patiala': 173, 'jeggings': 174, 'bath': 175, 'stockings': 176, 'coffee': 177, 'churidar': 178, 'wash': 179, 'tracksuits': 180, 'mauve': 181, 'party': 182, 'cleanser': 183, 'rose': 184, 'sporting': 185, 'goods': 186, 'sunscreen': 187, 'robe': 188, 'nude': 189, 'sea': 190, 'equipment': 191, 'rain': 192, 'colour': 193, 'jacket': 194, 'water': 195, 'bottle': 196, 'swimwear': 197, 'waist': 198, 'baby': 199, 'dolls': 200, 'jumpsuit': 201, 'mushroom': 202, 'waistcoat': 203, 'basketballs': 204, 'mascara': 205, 'mask': 206, 'peel': 207, 'rompers': 208, 'booties': 209, 'umbrellas': 210, 'taupe': 211, 'wristbands': 212, 'concealer': 213, 'rucksacks': 214, 'tights': 215, 'shapewear': 216, 'blazers': 217, 'beauty': 218, 'footballs': 219, 'clothing': 220, 'headband': 221, 'shrug': 222, 'lime': 223, 'eye': 224, 'essentials': 225, 'scrub': 226, 'lotion': 227, 'perfumes': 228, 'exfoliator': 229, 'nehru': 230, 'toner': 231, 'fluorescent': 232, 'lehenga': 233, 'choli': 234, 'remover': 235, 'plumper': 236, 'trolley': 237, 'tablet': 238, 'sleeve': 239, 'home': 240, 'hat': 241, 'key': 242, 'chain': 243, 'serum': 244, 'gel': 245, 'laces': 246, 'furnishing': 247, 'cushion': 248, 'covers': 249, 'mens': 250, 'grooming': 251, 'kit': 252, 'vouchers': 253, 'ipad': 254}\n"
          ],
          "name": "stdout"
        }
      ]
    },
    {
      "cell_type": "code",
      "metadata": {
        "colab": {
          "base_uri": "https://localhost:8080/"
        },
        "id": "XqMJnykpTfax",
        "outputId": "3eac1a8d-09ba-4b07-ac4d-3b18267942f9"
      },
      "source": [
        "da = {}\n",
        "ds = {}\n",
        "i=0\n",
        "a = tokenizer.sequences_to_matrix(train_sequences,mode='binary')\n",
        "print(a.shape)\n",
        "for k,v in data.items():\n",
        "  da[str(k)] = list(set(train_sequences[i]))\n",
        "  i=i+1\n",
        "i=0\n",
        "for k,v in data.items():\n",
        "  ds[k] = np.array(a[i,:])\n",
        "  i=i+1\n",
        "print(da['10000'])\n",
        "from tensorflow.keras.preprocessing.sequence import pad_sequences\n",
        "import numpy\n",
        "max_length = 12\n",
        "d_enc_padded = {}\n",
        "for k,d in da.items():\n",
        " pad = pad_sequences([d],maxlen=max_length,padding='post')\n",
        " d_enc_padded[str(k)] = numpy.array(pad[0])\n",
        "print(d_enc_padded['10000'])"
      ],
      "execution_count": null,
      "outputs": [
        {
          "output_type": "stream",
          "text": [
            "(44446, 240)\n",
            "[128, 1, 3, 4, 5, 16, 25]\n",
            "[128   1   3   4   5  16  25   0   0   0   0   0]\n"
          ],
          "name": "stdout"
        }
      ]
    },
    {
      "cell_type": "code",
      "metadata": {
        "colab": {
          "base_uri": "https://localhost:8080/"
        },
        "id": "NnW__LfDGVTs",
        "outputId": "52ea71cf-7391-4589-bb0b-31b50fdf1e94"
      },
      "source": [
        "print(max([len(i) for i in da.values()]))\n"
      ],
      "execution_count": null,
      "outputs": [
        {
          "output_type": "stream",
          "text": [
            "12\n"
          ],
          "name": "stdout"
        }
      ]
    },
    {
      "cell_type": "code",
      "metadata": {
        "id": "EDVqVI1ZTiuk"
      },
      "source": [
        "def read_image(fn):\n",
        "  im = cv2.imread(fn)\n",
        "  im = cv2.cvtColor(im, cv2.COLOR_BGR2LAB)\n",
        "  im = cv2.resize(im, (128,128), interpolation=cv2.INTER_CUBIC)\n",
        "  im = np.array(im)/127.5-1\n",
        "  return im"
      ],
      "execution_count": null,
      "outputs": []
    },
    {
      "cell_type": "code",
      "metadata": {
        "colab": {
          "base_uri": "https://localhost:8080/"
        },
        "id": "20pwI_fOTkr1",
        "outputId": "ed705ec8-316c-4454-8944-b3622fe90857"
      },
      "source": [
        "traini = glob.glob(r'/content/drive/MyDrive/images/*')\n",
        "print(len(traini))\n",
        "def minibatch(data, batchsize):\n",
        "    length = len(data)\n",
        "    epoch = i = 0\n",
        "    tmpsize = None    \n",
        "    while True:\n",
        "        size = tmpsize if tmpsize else batchsize\n",
        "        if i+size > length:\n",
        "            shuffle(data)\n",
        "            i = 0\n",
        "            epoch+=1        \n",
        "        rtn = [read_image(data[j]) for j in range(i,i+size)]\n",
        "        ltn=[]\n",
        "        se = []\n",
        "        for j in range(i,i+size):\n",
        "          if '(' in data[j].split('/')[-1].split('.')[0]:\n",
        "            ltn.append(d_enc_padded[data[j].split('/')[-1].split('.')[0].split(' ')[0]])\n",
        "          else:\n",
        "            ltn.append(d_enc_padded[data[j].split('/')[-1].split('.')[0]])\n",
        "        i+=size\n",
        "        tmpsize = yield epoch, np.float32(rtn), np.float32(np.array(ltn)/254)\n",
        "\n",
        "def minibatchAB(dataA, batchsize):\n",
        "    batchA = minibatch(dataA, batchsize)\n",
        "    tmpsize = None    \n",
        "    while True:        \n",
        "        ep1, A,B = batchA.send(tmpsize)\n",
        "        tmpsize = yield ep1, A,B\n",
        "train_batch = minibatchAB(traini, 1)\n"
      ],
      "execution_count": null,
      "outputs": [
        {
          "output_type": "stream",
          "text": [
            "44462\n"
          ],
          "name": "stdout"
        }
      ]
    },
    {
      "cell_type": "code",
      "metadata": {
        "id": "fz7Ecbqw9DzN"
      },
      "source": [
        "class ClipConstraint(tf.keras.constraints.Constraint):\n",
        "  def __init__(self, clip_value):\n",
        "    self.clip_value = clip_value\n",
        "  def __call__(self, weights):\n",
        "    return backend.clip(weights, -self.clip_value, self.clip_value)\n",
        "  def get_config(self):\n",
        "    return {'clip_value': self.clip_value}"
      ],
      "execution_count": null,
      "outputs": []
    },
    {
      "cell_type": "code",
      "metadata": {
        "id": "PLykj6zJ-CwL"
      },
      "source": [
        "const = ClipConstraint(0.01)"
      ],
      "execution_count": null,
      "outputs": []
    },
    {
      "cell_type": "code",
      "metadata": {
        "id": "gcatxM4UTmXW"
      },
      "source": [
        "class CycleGAN():\n",
        "  def __init__(self,train_batch,const):\n",
        "    self.img_rows = 128 \n",
        "    self.img_cols = 128 \n",
        "    self.channels = 3 \n",
        "    self.dloss = []\n",
        "    self.gloss = []\n",
        "    self.iter = []\n",
        "    self.traindata = train_batch\n",
        "    self.img_shape = (self.img_rows, self.img_cols, self.channels)\n",
        "    self.label_shape = (12,)\n",
        "    self.lambda_cycle = 10\n",
        "    optimizer = Adam(learning_rate = 0.002)\n",
        "    self.const = const\n",
        "    self.g_AB = self.build_label_generator() \n",
        "    self.g_BA = self.build_img_generator()\n",
        "    A = Input(shape=self.img_shape) \n",
        "    B = Input(shape=self.label_shape) \n",
        "    fake_B = self.g_AB(A) \n",
        "    fake_A = self.g_BA(B)\n",
        "    reconstr_A = self.g_BA(fake_B) \n",
        "    reconstr_B = self.g_AB(fake_A)\n",
        "    self.d_A = self.build_img_label_discriminator() \n",
        "    self.d_B = self.build_img_label_discriminator() \n",
        "    self.d_A.compile(loss=self.wa_loss,optimizer=RMSprop(0.00005)) \n",
        "    self.d_B.compile(loss=self.wa_loss,optimizer=RMSprop(0.00005))  \n",
        "    self.d_A.trainable = False \n",
        "    self.d_B.trainable = False\n",
        "    valid_A = self.d_A([fake_A,B]) \n",
        "    valid_B = self.d_B([A,fake_B])\n",
        "    self.classifier = Model(inputs = A,outputs = fake_B)\n",
        "    self.classifier.compile(loss = tf.keras.losses.binary_crossentropy,optimizer = optimizer)\n",
        "    self.combined = Model(inputs=[A,B],outputs=[valid_A, valid_B,reconstr_A, reconstr_B]) \n",
        "    self.combined.compile(loss=[self.wa_loss,self.wa_loss,tf.keras.losses.binary_crossentropy,tf.keras.losses.binary_crossentropy],loss_weights=[1, 1,self.lambda_cycle, self.lambda_cycle],optimizer=RMSprop(0.00005))\n",
        "  def wa_loss(self,y_true, y_pred):\n",
        "    return K.mean(y_true * y_pred)\n",
        "  def build_img_generator(self):\n",
        "    d0 = Input(shape=self.label_shape)\n",
        "    d1 = Dense(128,activation = 'relu')(d0)\n",
        "    d2 = tf.keras.layers.Reshape((1,1,128))(d1)\n",
        "    d3 = Conv2DTranspose(128,kernel_size = 3,strides = 2,padding = 'same')(d2)\n",
        "    #d3 = BatchNormalization()(d3)\n",
        "    d3 = tfa.layers.InstanceNormalization()(d3)\n",
        "    d3 = LeakyReLU(alpha=0.2)(d3)\n",
        "    d3 = Conv2DTranspose(128,kernel_size = 3,strides = 1,padding = 'same')(d3)\n",
        "    d3 = tfa.layers.InstanceNormalization()(d3)\n",
        "    d3 = LeakyReLU(alpha=0.2)(d3)\n",
        "    d3 = Conv2DTranspose(128,kernel_size = 3,strides = 1,padding = 'same')(d3)\n",
        "    d3 = tfa.layers.InstanceNormalization()(d3)\n",
        "    d3 = LeakyReLU(alpha=0.2)(d3)\n",
        "    d3 = Conv2DTranspose(64,kernel_size = 3,strides = 2,padding = 'same')(d3)\n",
        "    d3 = tfa.layers.InstanceNormalization()(d3)\n",
        "    d3 = LeakyReLU(alpha=0.2)(d3)\n",
        "    d3 = Conv2DTranspose(64,kernel_size = 3,strides = 1,padding = 'same')(d3)\n",
        "    d3 = tfa.layers.InstanceNormalization()(d3)\n",
        "    d3 = LeakyReLU(alpha=0.2)(d3)\n",
        "    d3 = Conv2DTranspose(64,kernel_size = 3,strides = 2,padding = 'same')(d3)\n",
        "    d3 = tfa.layers.InstanceNormalization()(d3)\n",
        "    d3 = LeakyReLU(alpha=0.2)(d3)\n",
        "    d3 = Conv2DTranspose(64,kernel_size = 3,strides = 1,padding = 'same')(d3)\n",
        "    d3 = tfa.layers.InstanceNormalization()(d3)\n",
        "    d3 = LeakyReLU(alpha=0.2)(d3)\n",
        "    d3 = Conv2DTranspose(32,kernel_size = 3,strides = 2,padding = 'same')(d3)\n",
        "    d3 = Conv2DTranspose(32,kernel_size = 3,strides = 1,padding = 'same')(d3)\n",
        "    d3 = Conv2DTranspose(32,kernel_size = 3,strides = 2,padding = 'same')(d3)\n",
        "    d3 = tfa.layers.InstanceNormalization()(d3)\n",
        "    d3 = LeakyReLU(alpha=0.2)(d3)\n",
        "    d3 = Conv2DTranspose(16,kernel_size = 3,strides = 2,padding = 'same')(d3)\n",
        "    d3 = tfa.layers.InstanceNormalization()(d3)\n",
        "    d3 = LeakyReLU(alpha=0.2)(d3)\n",
        "    d3 = Conv2DTranspose(16,kernel_size = 3,strides = 2,padding = 'same')(d3)\n",
        "    d3 = tfa.layers.InstanceNormalization()(d3)\n",
        "    d3 = LeakyReLU(alpha=0.2)(d3)\n",
        "    d3 = Conv2DTranspose(8,kernel_size = 3,strides = 1,padding = 'same')(d3)\n",
        "    output_img = Conv2D(3,kernel_size = 3,strides = 1,padding = 'same',activation='tanh')(d3)\n",
        "    return Model(d0, output_img) \n",
        "  def build_label_generator(self):\n",
        "    d0 = Input(shape=self.img_shape)\n",
        "    d1 = Conv2D(32,kernel_size = 3,strides = 1,padding = 'same')(d0)\n",
        "    #d1 = BatchNormalization()(d1)\n",
        "    d1 = tfa.layers.InstanceNormalization()(d1)\n",
        "    d1 = LeakyReLU(alpha=0.2)(d1)\n",
        "    d1 = Conv2D(32,kernel_size = 3,strides = 2,padding = 'same')(d1)\n",
        "    d1 = tfa.layers.InstanceNormalization()(d1)\n",
        "    d1 = LeakyReLU(alpha=0.2)(d1)\n",
        "    d1 = Conv2D(64,kernel_size = 3,strides = 2,padding = 'same')(d1)\n",
        "    d1 = tfa.layers.InstanceNormalization()(d1)\n",
        "    d1 = LeakyReLU(alpha=0.2)(d1)\n",
        "    d1 = Conv2D(64,kernel_size = 3,strides = 1,padding = 'same')(d1)\n",
        "    d1 = tfa.layers.InstanceNormalization()(d1)\n",
        "    d1 = LeakyReLU(alpha=0.2)(d1)\n",
        "    d1 = Conv2D(64,kernel_size = 3,strides = 2,padding = 'same')(d1)\n",
        "    d1 = tfa.layers.InstanceNormalization()(d1)\n",
        "    d1 = LeakyReLU(alpha=0.2)(d1)\n",
        "    d1 = Conv2D(128,kernel_size = 3,strides = 2,padding = 'same')(d1)\n",
        "    d1 = tfa.layers.InstanceNormalization()(d1)\n",
        "    d1 = LeakyReLU(alpha=0.2)(d1)\n",
        "    d1 = Conv2D(128,kernel_size = 3,strides = 1,padding = 'same')(d1)\n",
        "    d1 = tfa.layers.InstanceNormalization()(d1)\n",
        "    d1 = LeakyReLU(alpha=0.2)(d1)\n",
        "    d1 = Conv2D(128,kernel_size = 3,strides = 2,padding = 'same')(d1)\n",
        "    d1 = tfa.layers.InstanceNormalization()(d1)\n",
        "    d1 = LeakyReLU(alpha=0.2)(d1)\n",
        "    d1 = Conv2D(256,kernel_size = 3,strides = 2,padding = 'same')(d1)\n",
        "    d1 = tfa.layers.InstanceNormalization()(d1)\n",
        "    d1 = LeakyReLU(alpha=0.2)(d1)\n",
        "    d1 = Conv2D(512,kernel_size = 3,strides = 2,padding = 'same')(d1)\n",
        "    d2 = Flatten()(d1)\n",
        "    d2 = Dense(512,activation = 'relu')(d2)\n",
        "    d2 = Dense(128,activation='relu')(d2)\n",
        "    d2 = Dense(32,activation='relu')(d2)\n",
        "    output_label = Dense(12,activation='sigmoid')(d2)\n",
        "    return Model(d0, output_label)\n",
        "  def build_img_label_discriminator(self):\n",
        "    x1 = Input(shape=self.img_shape)\n",
        "    x2 = Input(shape=self.label_shape)\n",
        "    d1 = Conv2D(32,kernel_size = 3,strides = 4,kernel_constraint=self.const, padding = 'same')(x1)\n",
        "    d1 = tfa.layers.InstanceNormalization()(d1)\n",
        "    d1 = LeakyReLU(alpha=0.2)(d1)\n",
        "    d1 = Conv2D(64,kernel_size = 3,strides = 4,kernel_constraint=self.const,padding = 'same')(d1)\n",
        "    d1 = tfa.layers.InstanceNormalization()(d1)\n",
        "    d1 = LeakyReLU(alpha=0.2)(d1)\n",
        "    d1 = Conv2D(128,kernel_size = 3,strides = 2,kernel_constraint=self.const,padding = 'same')(d1)\n",
        "    d1 = tfa.layers.InstanceNormalization()(d1)\n",
        "    d1 = LeakyReLU(alpha=0.2)(d1)\n",
        "    d1 = Conv2D(128,kernel_size = 3,strides = 2,kernel_constraint=self.const,padding = 'same')(d1)\n",
        "    d1 = tfa.layers.InstanceNormalization()(d1)\n",
        "    d1 = LeakyReLU(alpha=0.2)(d1)\n",
        "    d1 = Conv2D(512,kernel_size = 3,strides = 2,kernel_constraint=self.const,padding = 'same')(d1)\n",
        "    d1 = tfa.layers.InstanceNormalization()(d1)\n",
        "    d1 = LeakyReLU(alpha=0.2)(d1)\n",
        "    d2 = Flatten()(d1)\n",
        "    d4 = Dense(512)(x2)\n",
        "    d3 = concatenate([d4,d2])\n",
        "    d3 = LeakyReLU(0.2)(d3)\n",
        "    d3 = Dense(64)(d3)\n",
        "    d3 = LeakyReLU(0.2)(d3)\n",
        "    d3 = Dense(32)(d3)\n",
        "    d3 = LeakyReLU(0.2)(d3)\n",
        "    validity = Dense(1)(d3)\n",
        "    return Model(inputs = [x1,x2], outputs = [validity])\n",
        "  def train(self, epochs, batch_size=64, sample_interval=50):\n",
        "    valid = -np.ones((batch_size,1))\n",
        "    fake = np.ones((batch_size,1))\n",
        "    for epoch in range(epochs):\n",
        "      for i in range(5):\n",
        "        ep, A,B= next(self.traindata)\n",
        "        fake_A = self.g_BA.predict(B)\n",
        "        dA_loss_real = self.d_A.train_on_batch([A,B], valid) \n",
        "        dA_loss_fake = self.d_A.train_on_batch([fake_A,B], fake)\n",
        "        dA_loss = 0.5 * np.add(dA_loss_real, dA_loss_fake)\n",
        "        fake_B = self.g_AB.predict(A)\n",
        "        dB_loss_real = self.d_B.train_on_batch([A,B], valid)\n",
        "        dB_loss_fake = self.d_B.train_on_batch([A,fake_B], fake)\n",
        "        dB_loss = 0.5 * np.add(dB_loss_real, dB_loss_fake)\n",
        "        classifier_loss = self.classifier.train_on_batch(A,B)\n",
        "      d_loss = 0.5 * np.add(dA_loss, dB_loss)\n",
        "\n",
        "      ep, A,B= next(self.traindata)\n",
        "      g_loss = self.combined.train_on_batch([A,B],[valid, valid, A, B])\n",
        "      if epoch % sample_interval == 0: \n",
        "        self.dloss.append(np.mean(d_loss))\n",
        "        self.gloss.append(np.mean(g_loss))\n",
        "        self.iter.append(epoch)\n",
        "        print(\"%d [D loss : %f ] [G loss : %f]\"%(epoch,np.mean(d_loss),np.mean(g_loss)))\n",
        "        res = gan.g_AB.predict(np.array([A[0]]))\n",
        "        print(B[0]*254)\n",
        "        print(np.floor(res[0]*254))\n",
        "        #print(np.round(res[0]))\n"
      ],
      "execution_count": null,
      "outputs": []
    },
    {
      "cell_type": "code",
      "metadata": {
        "id": "VRsqwq-_Tpin"
      },
      "source": [
        "gan = CycleGAN(train_batch,const)\n"
      ],
      "execution_count": null,
      "outputs": []
    },
    {
      "cell_type": "code",
      "metadata": {
        "colab": {
          "base_uri": "https://localhost:8080/"
        },
        "id": "lIxgHy6-yis1",
        "outputId": "402ad4d6-d4b3-45c8-b542-8ee1c57885cb"
      },
      "source": [
        "gan.train(epochs=1500, batch_size=1, sample_interval=10)"
      ],
      "execution_count": null,
      "outputs": [
        {
          "output_type": "stream",
          "text": [
            "0 [D loss : 0.018471 ] [G loss : 9.567918]\n",
            "[ 1.  5.  8.  9. 45. 77. 46.  0.  0.  0.  0.  0.]\n",
            "[10. 20.  6.  4. 52.  4.  0. 20. 94.  1.  2.  1.]\n",
            "10 [D loss : -0.003003 ] [G loss : 6.752915]\n",
            "[ 1.  4.  8. 10. 21. 56. 29.  0.  0.  0.  0.  0.]\n",
            "[ 0. 10.  8.  1.  9.  6.  8.  0.  4.  0.  1.  0.]\n",
            "20 [D loss : -0.001789 ] [G loss : 7.228310]\n",
            "[ 1.  5.  8. 10. 12. 21. 95.  0.  0.  0.  0.  0.]\n",
            "[ 0.  3.  8.  3. 15. 12. 19.  5.  4.  3.  0.  0.]\n",
            "30 [D loss : 0.004223 ] [G loss : 5.368173]\n",
            "[ 1.  2.  3.  6. 10. 13. 23.  0.  0.  0.  0.  0.]\n",
            "[ 5.  3. 10.  9.  9. 37. 57.  1.  0.  0.  0.  0.]\n",
            "40 [D loss : -0.000666 ] [G loss : 5.064469]\n",
            "[ 1.  5.  8.  9. 45. 77. 46.  0.  0.  0.  0.  0.]\n",
            "[ 0.  1.  0.  1. 12. 20. 23.  0.  0.  0.  0.  0.]\n",
            "50 [D loss : -0.004209 ] [G loss : 7.888131]\n",
            "[  1.   3.   5.   9.  16. 113.  25.   0.   0.   0.   0.   0.]\n",
            "[16.  6.  4. 34. 69. 55. 32. 32. 43.  7.  0.  0.]\n",
            "60 [D loss : -0.022258 ] [G loss : 7.943887]\n",
            "[32.  1.  4.  5.  8. 27.  0.  0.  0.  0.  0.  0.]\n",
            "[ 4.  7.  6. 13. 15. 34. 31. 14. 10.  1.  0.  0.]\n",
            "70 [D loss : -0.018089 ] [G loss : 6.035848]\n",
            "[ 2.  7.  9. 11. 14. 15.  0.  0.  0.  0.  0.  0.]\n",
            "[40. 32. 86. 57. 63. 56. 37. 16. 12.  7.  3.  3.]\n",
            "80 [D loss : -0.013486 ] [G loss : 7.040666]\n",
            "[ 1.  5.  8. 12. 16. 17.  0.  0.  0.  0.  0.  0.]\n",
            "[12. 15. 15. 31. 54. 45. 33. 13. 12.  8.  1.  0.]\n",
            "90 [D loss : -0.008307 ] [G loss : 5.957792]\n",
            "[ 1.  4.  5. 39.  8. 14. 21.  0.  0.  0.  0.  0.]\n",
            "[10.  0. 16. 24. 32. 45. 27.  2.  1.  0.  0.  0.]\n",
            "100 [D loss : -0.014290 ] [G loss : 6.800571]\n",
            "[32.  1.  5.  8.  9. 18.  0.  0.  0.  0.  0.  0.]\n",
            "[ 3.  6. 11. 12. 34. 22. 46.  4.  1.  0.  0.  0.]\n",
            "110 [D loss : -0.003409 ] [G loss : 7.924450]\n",
            "[ 1. 69.  5.  7. 11. 12. 27.  0.  0.  0.  0.  0.]\n",
            "[ 1.  5.  3. 39. 23. 35. 13.  1.  0.  0.  0.  0.]\n",
            "120 [D loss : -0.028441 ] [G loss : 5.811296]\n",
            "[ 1.  2.  4.  7. 11. 27.  0.  0.  0.  0.  0.  0.]\n",
            "[10.  7. 18. 24. 52. 38. 28.  3.  1.  1.  0.  0.]\n",
            "130 [D loss : 0.003939 ] [G loss : 7.102564]\n",
            "[ 3.  5.  9. 75. 76. 20. 27.  0.  0.  0.  0.  0.]\n",
            "[ 1.  1.  0. 11. 13. 25.  3.  2.  0.  0.  0.  0.]\n",
            "140 [D loss : -0.057964 ] [G loss : 7.161908]\n",
            "[ 1.  2.  4.  7. 11. 14.  0.  0.  0.  0.  0.  0.]\n",
            "[10.  8. 15. 34. 37. 40. 32. 13.  5.  4.  0.  0.]\n",
            "150 [D loss : -0.015081 ] [G loss : 6.785761]\n",
            "[ 2.  4.  7. 10. 11. 15.  0.  0.  0.  0.  0.  0.]\n",
            "[ 2.  0.  6. 27. 20. 33.  5.  0.  0.  0.  0.  0.]\n",
            "160 [D loss : -0.047303 ] [G loss : 5.113339]\n",
            "[ 1. 39.  8. 12. 21. 24. 29.  0.  0.  0.  0.  0.]\n",
            "[ 2.  3.  4. 11. 20. 13. 12.  2.  0.  0.  0.  0.]\n",
            "170 [D loss : -0.028185 ] [G loss : 7.422920]\n",
            "[ 1.  5.  8. 40. 12. 47. 48.  0.  0.  0.  0.  0.]\n",
            "[ 6.  4.  9. 37. 33. 35.  9.  1.  0.  0.  0.  0.]\n",
            "180 [D loss : -0.043256 ] [G loss : 7.268055]\n",
            "[ 1. 35. 36.  5. 11. 12. 16.  0.  0.  0.  0.  0.]\n",
            "[ 3.  2.  3.  7. 16. 19. 26.  4.  0.  1.  0.  0.]\n",
            "190 [D loss : -0.038542 ] [G loss : 6.042941]\n",
            "[ 1.  5.  7. 10. 11. 44. 12.  0.  0.  0.  0.  0.]\n",
            "[10.  1.  8. 13. 20. 34. 32.  3.  0.  0.  0.  0.]\n",
            "200 [D loss : -0.080759 ] [G loss : 5.871402]\n",
            "[  1.   2.   3.  12.  52.  24. 120.  31.   0.   0.   0.   0.]\n",
            "[11.  5. 11. 11. 33. 37. 38. 11.  6.  4.  0.  0.]\n",
            "210 [D loss : -0.009550 ] [G loss : 5.704032]\n",
            "[33.  1.  3.  4.  5. 38.  6.  0.  0.  0.  0.  0.]\n",
            "[37. 20. 25. 66. 65. 68. 62. 32. 23. 17.  2.  1.]\n",
            "220 [D loss : -0.150377 ] [G loss : 6.574149]\n",
            "[ 2.  4.  7. 11. 15. 16.  0.  0.  0.  0.  0.  0.]\n",
            "[12. 11.  9. 32. 45. 44. 55. 24. 20. 11.  1.  0.]\n",
            "230 [D loss : -0.106358 ] [G loss : 3.670201]\n",
            "[ 1.  2.  8. 12. 17. 18.  0.  0.  0.  0.  0.  0.]\n",
            "[ 4.  6.  3. 19. 23. 31. 41. 17. 29.  5.  0.  0.]\n",
            "240 [D loss : -0.017978 ] [G loss : 6.071442]\n",
            "[ 1.  3.  4.  5.  6. 13. 16.  0.  0.  0.  0.  0.]\n",
            "[ 8.  6.  4. 14. 23. 36. 39. 11.  7.  1.  0.  0.]\n",
            "250 [D loss : -0.082626 ] [G loss : 3.994937]\n",
            "[  1.   5.   8.   9.  45.  46. 114.   0.   0.   0.   0.   0.]\n",
            "[ 3.  1.  1. 15. 29. 38. 53. 13. 12.  0.  0.  0.]\n",
            "260 [D loss : -0.021148 ] [G loss : 4.072951]\n",
            "[ 1.  3.  4.  5. 71. 10. 31.  0.  0.  0.  0.  0.]\n",
            "[ 3.  9.  6. 18. 27. 25. 14.  8.  9.  0.  0.  0.]\n",
            "270 [D loss : 0.032216 ] [G loss : 6.154836]\n",
            "[ 33.   1.   3.   4.   5.  72.  73.  42. 110.   0.   0.   0.]\n",
            "[ 8. 10. 10. 15. 15. 44. 34. 13.  7.  1.  0.  0.]\n",
            "280 [D loss : -0.032852 ] [G loss : 4.835066]\n",
            "[ 1.  2.  8. 12. 17. 24.  0.  0.  0.  0.  0.  0.]\n",
            "[ 2.  1.  1. 11. 17. 18. 28. 29.  2.  0.  0.  0.]\n",
            "290 [D loss : -0.068459 ] [G loss : 4.690424]\n",
            "[ 1.  3.  4.  5. 14. 25. 62.  0.  0.  0.  0.  0.]\n",
            "[ 6.  5.  7. 17. 38. 44. 27. 23. 10.  1.  0.  0.]\n",
            "300 [D loss : -0.192060 ] [G loss : 5.446996]\n",
            "[ 1.  3.  4.  5. 38.  6. 24.  0.  0.  0.  0.  0.]\n",
            "[ 1.  1.  1.  5. 23. 14. 12.  5.  4.  0.  0.  0.]\n",
            "310 [D loss : 0.210642 ] [G loss : 4.345125]\n",
            "[ 1.  5.  8. 40. 12. 17.  0.  0.  0.  0.  0.  0.]\n",
            "[ 3.  5.  9.  7. 18. 17. 29.  6.  3.  0.  0.  0.]\n",
            "320 [D loss : -0.287211 ] [G loss : 5.581835]\n",
            "[  1.   4.   5.   8.  45.  46. 114.   0.   0.   0.   0.   0.]\n",
            "[ 9.  6.  7. 23. 44. 57. 38.  9. 12.  0.  0.  0.]\n",
            "330 [D loss : -0.086047 ] [G loss : 3.786414]\n",
            "[ 1.  2.  3.  4.  6. 13. 30.  0.  0.  0.  0.  0.]\n",
            "[ 0.  0.  2.  1.  6.  9. 31.  2.  0.  0.  0.  0.]\n",
            "340 [D loss : -0.051741 ] [G loss : 8.824053]\n",
            "[ 1.  8. 12. 16. 17. 29.  0.  0.  0.  0.  0.  0.]\n",
            "[ 2.  4. 12.  4.  6. 48.  2.  2.  1.  2.  0.  0.]\n",
            "350 [D loss : -0.394256 ] [G loss : 4.692159]\n",
            "[ 1.  2.  4.  8. 41. 18.  0.  0.  0.  0.  0.  0.]\n",
            "[24.  8. 13. 37. 48. 71. 23. 15. 23.  1.  1.  0.]\n",
            "360 [D loss : -0.051325 ] [G loss : 3.466725]\n",
            "[ 1.  8. 12. 17. 54. 29.  0.  0.  0.  0.  0.  0.]\n",
            "[ 0. 10. 11. 12.  8. 14. 19.  3.  1.  0.  0.  0.]\n",
            "370 [D loss : -0.453114 ] [G loss : 4.863060]\n",
            "[ 1.  5.  7. 10. 11. 44. 12.  0.  0.  0.  0.  0.]\n",
            "[ 4. 13. 12. 15. 30. 26. 43. 22.  3.  4.  2.  0.]\n",
            "380 [D loss : -0.379650 ] [G loss : 4.165935]\n",
            "[ 1.  5.  7. 11. 44. 12. 14.  0.  0.  0.  0.  0.]\n",
            "[ 3.  9. 18. 22. 30. 32. 26.  7.  2.  2.  0.  0.]\n",
            "390 [D loss : -0.402286 ] [G loss : 4.776514]\n",
            "[ 1.  5.  8. 10. 12. 17.  0.  0.  0.  0.  0.  0.]\n",
            "[ 5.  8. 13. 31. 25. 45. 30.  9. 10.  5.  1.  0.]\n",
            "400 [D loss : -0.306197 ] [G loss : 3.559528]\n",
            "[ 1.  5.  8. 40. 12. 17.  0.  0.  0.  0.  0.  0.]\n",
            "[ 1.  5. 10. 10. 17. 19. 24.  3.  1.  1.  0.  0.]\n",
            "410 [D loss : -0.181078 ] [G loss : 4.553358]\n",
            "[  1.   2.   3. 100.   4.  16.  31.   0.   0.   0.   0.   0.]\n",
            "[11. 11. 14. 22. 42. 43. 42.  6.  3.  2.  0.  0.]\n",
            "420 [D loss : -0.394922 ] [G loss : 4.771969]\n",
            "[ 1. 35. 36.  5. 11. 12. 18.  0.  0.  0.  0.  0.]\n",
            "[ 2. 12. 11. 16. 27. 28. 32.  5.  2.  4.  0.  0.]\n",
            "430 [D loss : -0.260167 ] [G loss : 4.362781]\n",
            "[33. 34.  3.  4.  5.  6. 20.  0.  0.  0.  0.  0.]\n",
            "[ 8.  7.  8. 28. 33. 36. 40.  7.  2.  1.  0.  0.]\n",
            "440 [D loss : -0.516183 ] [G loss : 4.257235]\n",
            "[ 2. 68.  4.  8. 10. 22.  0.  0.  0.  0.  0.  0.]\n",
            "[ 5.  6.  5. 18. 24. 32. 23.  3.  2.  0.  0.  0.]\n",
            "450 [D loss : -0.646376 ] [G loss : 5.154500]\n",
            "[ 1. 66. 35. 36.  5. 11. 12.  0.  0.  0.  0.  0.]\n",
            "[11. 15. 22. 29. 45. 47. 36.  6.  4.  2.  0.  0.]\n",
            "460 [D loss : -0.362680 ] [G loss : 4.453934]\n",
            "[ 1.  2.  3.  4.  6. 13. 24.  0.  0.  0.  0.  0.]\n",
            "[ 9.  5.  8. 25. 44. 44. 24.  3.  2.  0.  0.  0.]\n",
            "470 [D loss : -0.522381 ] [G loss : 2.700610]\n",
            "[32.  1.  2.  4.  8. 10.  0.  0.  0.  0.  0.  0.]\n",
            "[10.  4. 12. 18. 25. 23. 23.  1.  0.  0.  0.  0.]\n",
            "480 [D loss : -0.276508 ] [G loss : 3.863297]\n",
            "[  1.   2.   3.  12. 120.  24. 124.  31.   0.   0.   0.   0.]\n",
            "[ 4.  8. 14. 15. 30. 27. 32.  4.  1.  2.  0.  0.]\n",
            "490 [D loss : -0.230092 ] [G loss : 3.764721]\n",
            "[33.  1.  3.  4.  5. 25. 63.  0.  0.  0.  0.  0.]\n",
            "[ 4.  4.  4. 13. 20. 27. 21.  4.  1.  1.  0.  0.]\n",
            "500 [D loss : -0.731963 ] [G loss : 3.582762]\n",
            "[ 1.  2.  3.  4.  6. 13. 16.  0.  0.  0.  0.  0.]\n",
            "[ 4. 12. 10. 16. 22. 30. 24.  3.  1.  1.  0.  0.]\n",
            "510 [D loss : -0.367155 ] [G loss : 3.774621]\n",
            "[  1.   2. 131.   4.   8.  45.  90.   0.   0.   0.   0.   0.]\n",
            "[ 4.  4.  5.  9. 33. 44. 41.  3.  1.  0.  0.  0.]\n",
            "520 [D loss : -0.549770 ] [G loss : 3.250837]\n",
            "[ 1.  5. 14. 23. 85. 86. 87. 26. 28.  0.  0.  0.]\n",
            "[ 5. 12.  6. 16. 27. 45. 42.  3.  1.  0.  0.  0.]\n",
            "530 [D loss : 0.185591 ] [G loss : 4.290834]\n",
            "[  1.  67.   5. 107.  18.  23. 121.  26.  28.   0.   0.   0.]\n",
            "[19. 29. 15. 30. 38. 47. 54. 13. 10.  3.  1.  0.]\n",
            "540 [D loss : 1.340059 ] [G loss : 2.598234]\n",
            "[ 1.  4.  5.  8. 41. 80.  0.  0.  0.  0.  0.  0.]\n",
            "[ 1. 10.  3.  6. 13. 21. 18.  1.  0.  0.  0.  0.]\n",
            "550 [D loss : -0.918825 ] [G loss : 3.372153]\n",
            "[32.  1.  5.  8. 12. 27.  0.  0.  0.  0.  0.  0.]\n",
            "[19. 21. 10. 17. 24. 42. 56.  9.  3.  0.  0.  0.]\n",
            "560 [D loss : -1.288052 ] [G loss : 3.272762]\n",
            "[ 1.  4.  5.  8. 21. 59. 95.  0.  0.  0.  0.  0.]\n",
            "[12. 18. 11. 16. 28. 40. 46. 11.  4.  1.  0.  0.]\n",
            "570 [D loss : -0.482644 ] [G loss : 2.737026]\n",
            "[ 2.  3.  4. 37. 14. 15. 25. 63.  0.  0.  0.  0.]\n",
            "[ 7. 12. 10. 18. 39. 42. 52.  7.  5.  1.  0.  0.]\n",
            "580 [D loss : -0.574972 ] [G loss : 1.692488]\n",
            "[ 1.  5.  8. 10. 12. 47. 48.  0.  0.  0.  0.  0.]\n",
            "[ 1.  4.  7.  7. 15. 20. 35.  2.  2.  0.  0.  0.]\n",
            "590 [D loss : -0.910291 ] [G loss : 3.478376]\n",
            "[  1. 131.   4.   5.   8.  45.  46.   0.   0.   0.   0.   0.]\n",
            "[10. 12. 13. 23. 51. 63. 63. 11. 12.  1.  0.  0.]\n",
            "600 [D loss : -0.641315 ] [G loss : 3.458678]\n",
            "[ 1. 69.  5.  7. 11. 12. 55.  0.  0.  0.  0.  0.]\n",
            "[11. 33. 35. 21. 40. 51. 64.  9.  7.  2.  0.  0.]\n",
            "610 [D loss : -0.906621 ] [G loss : 3.241567]\n",
            "[  1.   5. 134. 165. 135.  42.  14.  23.  26.  28.   0.   0.]\n",
            "[11. 24. 29. 15. 27. 38. 48.  4.  3.  0.  0.  0.]\n",
            "620 [D loss : -0.549603 ] [G loss : 1.325755]\n",
            "[ 1.  5.  8. 10. 12. 17.  0.  0.  0.  0.  0.  0.]\n",
            "[ 3.  5.  6. 13. 22. 24. 29.  1.  1.  0.  0.  0.]\n",
            "630 [D loss : -0.767387 ] [G loss : 1.157877]\n",
            "[ 1.  2.  3.  4.  6. 13. 16.  0.  0.  0.  0.  0.]\n",
            "[ 7.  5. 18. 13. 22. 31. 28.  1.  1.  0.  0.  0.]\n",
            "640 [D loss : -0.741105 ] [G loss : 2.051356]\n",
            "[ 1.  4.  5.  8. 45. 77. 46.  0.  0.  0.  0.  0.]\n",
            "[ 7.  8.  9. 12. 31. 41. 41.  4.  2.  0.  0.  0.]\n",
            "650 [D loss : -0.588621 ] [G loss : 2.128791]\n",
            "[ 2.  3.  4.  6. 13. 15. 27.  0.  0.  0.  0.  0.]\n",
            "[ 4.  3.  4.  6. 15. 31. 22.  0.  0.  0.  0.  0.]\n",
            "660 [D loss : -0.324165 ] [G loss : 1.737542]\n",
            "[ 1.  4.  5.  8. 21. 24. 95.  0.  0.  0.  0.  0.]\n",
            "[ 9.  8. 14. 12. 38. 40. 26.  2.  1.  0.  0.  0.]\n",
            "670 [D loss : -0.625541 ] [G loss : 0.605509]\n",
            "[ 1.  2.  3.  4.  6. 10. 19.  0.  0.  0.  0.  0.]\n",
            "[ 2.  3.  7.  7. 14. 20. 27.  1.  0.  0.  0.  0.]\n",
            "680 [D loss : -0.345820 ] [G loss : 3.335119]\n",
            "[ 1.  2. 58. 42. 60. 49. 23. 24. 26. 28. 61.  0.]\n",
            "[18. 20. 20. 26. 28. 38. 40. 15.  6.  3.  3.  0.]\n",
            "690 [D loss : -1.106730 ] [G loss : 2.402764]\n",
            "[ 1.  5.  8. 12. 16. 17.  0.  0.  0.  0.  0.  0.]\n",
            "[ 7. 10. 16. 18. 25. 26. 27.  5.  2.  1.  2.  0.]\n",
            "700 [D loss : -0.213391 ] [G loss : -0.206941]\n",
            "[ 1.  4.  5.  7. 10. 11. 44.  0.  0.  0.  0.  0.]\n",
            "[ 2.  1.  4. 11. 22. 19. 10.  0.  0.  0.  0.  0.]\n",
            "710 [D loss : -1.741534 ] [G loss : 1.732252]\n",
            "[ 1.  5.  7. 11. 44. 12. 27.  0.  0.  0.  0.  0.]\n",
            "[ 4.  9.  8. 21. 19. 21. 25.  5.  1.  1.  2.  0.]\n",
            "720 [D loss : 0.556773 ] [G loss : 4.060491]\n",
            "[ 1. 66. 58.  5. 42. 60. 49. 23. 26. 28. 61.  0.]\n",
            "[27. 25. 27. 48. 54. 47. 38. 20.  8.  6.  9.  0.]\n",
            "730 [D loss : -1.985132 ] [G loss : 0.701166]\n",
            "[ 1.  9. 11. 50. 51. 24. 29.  0.  0.  0.  0.  0.]\n",
            "[ 3.  5. 10. 20. 19. 26. 15.  3.  0.  0.  1.  0.]\n",
            "740 [D loss : -0.117419 ] [G loss : 3.947735]\n",
            "[33.  1. 58.  5. 42. 60. 49. 23. 26. 28. 61.  0.]\n",
            "[22. 18. 19. 34. 44. 48. 48. 20.  6.  5. 10.  0.]\n",
            "750 [D loss : -2.081395 ] [G loss : 1.221467]\n",
            "[ 1.  2.  7.  9. 11. 18.  0.  0.  0.  0.  0.  0.]\n",
            "[ 4.  7. 12. 16. 23. 33. 16.  3.  0.  1.  3.  0.]\n",
            "760 [D loss : -1.119020 ] [G loss : 3.744333]\n",
            "[ 1.  2. 58. 42. 60. 14. 49. 23. 26. 28. 61.  0.]\n",
            "[23. 21. 22. 43. 40. 59. 42. 15.  8.  6. 14.  0.]\n",
            "770 [D loss : -0.256823 ] [G loss : 4.357760]\n",
            "[160.  67.   5. 107.  18.  82.  23.  26.  28.   0.   0.   0.]\n",
            "[27. 28. 35. 45. 55. 64. 73. 21. 13. 13. 18.  0.]\n",
            "780 [D loss : -0.544488 ] [G loss : -1.928398]\n",
            "[ 1.  2.  4.  7. 10. 11.  0.  0.  0.  0.  0.  0.]\n",
            "[ 1.  5.  3.  5.  7. 25. 23.  0.  0.  0.  0.  0.]\n",
            "790 [D loss : -2.104966 ] [G loss : 4.294403]\n",
            "[ 1.  3.  4.  5.  6. 13. 16.  0.  0.  0.  0.  0.]\n",
            "[16. 22. 24. 27. 44. 50. 49. 13.  6.  3.  3.  0.]\n",
            "800 [D loss : -0.265644 ] [G loss : 1.898215]\n",
            "[  1.   3.   5.  70. 201.  12. 127.   0.   0.   0.   0.   0.]\n",
            "[ 7.  9.  9.  8. 16. 31. 28.  5.  0.  0.  0.  0.]\n",
            "810 [D loss : -0.742035 ] [G loss : -1.247446]\n",
            "[ 1.  2.  3.  4.  6. 13. 16.  0.  0.  0.  0.  0.]\n",
            "[ 1.  1. 18.  3. 22. 26. 51.  1.  0.  0.  0.  0.]\n",
            "820 [D loss : -0.307755 ] [G loss : -1.274484]\n",
            "[64.  1. 69.  5.  7. 11. 12.  0.  0.  0.  0.  0.]\n",
            "[ 4.  5.  2.  6. 19. 29. 30.  2.  0.  0.  0.  0.]\n",
            "830 [D loss : -0.655646 ] [G loss : -1.800383]\n",
            "[ 1.  2.  3.  4.  6. 13. 16.  0.  0.  0.  0.  0.]\n",
            "[ 2.  2.  1.  4. 13. 28. 27.  1.  0.  0.  0.  0.]\n",
            "840 [D loss : -1.005910 ] [G loss : -2.172213]\n",
            "[ 2.  4.  8. 41. 10. 22.  0.  0.  0.  0.  0.  0.]\n",
            "[ 0.  3.  4.  4. 10. 20. 16.  1.  0.  0.  0.  0.]\n",
            "850 [D loss : -0.589058 ] [G loss : 1.478419]\n",
            "[ 1.  2.  3.  4. 14. 25. 62.  0.  0.  0.  0.  0.]\n",
            "[ 2.  7. 11. 10. 14. 23. 19.  8.  4.  0.  0.  0.]\n",
            "860 [D loss : -3.963901 ] [G loss : 3.270268]\n",
            "[ 1.  3.  4.  5.  6. 13. 16.  0.  0.  0.  0.  0.]\n",
            "[ 9. 13. 15. 31. 35. 36. 34. 16. 12.  3.  2.  0.]\n",
            "870 [D loss : -0.674953 ] [G loss : -0.420375]\n",
            "[  1.   3.   4.   5.   6. 103.  79.   0.   0.   0.   0.   0.]\n",
            "[ 3.  3.  6. 12. 14. 20. 16.  3.  2.  0.  0.  0.]\n"
          ],
          "name": "stdout"
        }
      ]
    },
    {
      "cell_type": "code",
      "metadata": {
        "colab": {
          "base_uri": "https://localhost:8080/"
        },
        "id": "VbJNS-v9TqHt",
        "outputId": "a1c7340f-f9cb-45aa-969c-1c106d15297a"
      },
      "source": [
        "A = read_image('/content/drive/MyDrive/images/40000.jpg')\n",
        "A = np.expand_dims(A,axis=0)\n",
        "res = gan.g_AB.predict(A)\n",
        "print(d_enc_padded['40000'])\n",
        "print(np.round(res[0]*254))"
      ],
      "execution_count": null,
      "outputs": [
        {
          "output_type": "stream",
          "text": [
            "[ 1  2  8 10 12 47 48  0  0  0  0  0]\n",
            "[21. 10. 14. 22. 20. 43. 17.  4.  2.  0.  0.  0.]\n"
          ],
          "name": "stdout"
        }
      ]
    },
    {
      "cell_type": "code",
      "metadata": {
        "id": "s2n3S3pERbIV",
        "colab": {
          "base_uri": "https://localhost:8080/",
          "height": 295
        },
        "outputId": "b5a02720-c9f0-40c4-d879-ef2895aef44d"
      },
      "source": [
        "import matplotlib.pyplot as plt\n",
        "x1 = gan.iter\n",
        "y1 = gan.gloss\n",
        "# plotting the line 1 points \n",
        "plt.plot(x1, y1, label = \"gloss\")\n",
        "  \n",
        "# line 2 points\n",
        "x2 = gan.iter\n",
        "y2 = gan.dloss\n",
        "# plotting the line 2 points \n",
        "plt.plot(x2, y2, label = \"dloss\")\n",
        "  \n",
        "# naming the x axis\n",
        "plt.xlabel('x - axis')\n",
        "# naming the y axis\n",
        "plt.ylabel('y - axis')\n",
        "# giving a title to my graph\n",
        "plt.title('Dloss and Gloss per iteration')\n",
        "  \n",
        "# show a legend on the plot\n",
        "plt.legend()\n",
        "  \n",
        "# function to show the plot\n",
        "plt.show()"
      ],
      "execution_count": null,
      "outputs": [
        {
          "output_type": "display_data",
          "data": {
            "image/png": "[encoded data removed]",
            "text/plain": [
              "<Figure size 432x288 with 1 Axes>"
            ]
          },
          "metadata": {
            "tags": [],
            "needs_background": "light"
          }
        }
      ]
    },
    {
      "cell_type": "code",
      "metadata": {
        "id": "yDBKscrxwMlR"
      },
      "source": [
        "g_AB = tf.keras.models.load_model('/content/drive/MyDrive/cwgabgan.h5')\n"
      ],
      "execution_count": null,
      "outputs": []
    },
    {
      "cell_type": "code",
      "metadata": {
        "id": "PF02MaGAywG9"
      },
      "source": [
        ""
      ],
      "execution_count": null,
      "outputs": []
    }
  ]
}